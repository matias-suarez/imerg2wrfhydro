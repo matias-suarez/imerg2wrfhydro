{
 "cells": [
  {
   "cell_type": "code",
   "execution_count": 9,
   "id": "fd6eb818",
   "metadata": {
    "ExecuteTime": {
     "end_time": "2024-05-21T23:49:24.206486Z",
     "start_time": "2024-05-21T23:49:24.204487Z"
    }
   },
   "outputs": [],
   "source": [
    "import pandas as pd\n",
    "import matplotlib.pyplot as plt"
   ]
  },
  {
   "cell_type": "code",
   "execution_count": 6,
   "id": "2f26ae73",
   "metadata": {
    "ExecuteTime": {
     "end_time": "2024-05-21T23:49:02.561183Z",
     "start_time": "2024-05-21T23:49:02.557290Z"
    }
   },
   "outputs": [],
   "source": [
    "df = pd.read_csv('/home/msuarez/Downloads/IMERG-F_extras2018_dataset_previo/regridded/mean_rainrate.csv')"
   ]
  },
  {
   "cell_type": "code",
   "execution_count": 7,
   "id": "270e8fb7",
   "metadata": {
    "ExecuteTime": {
     "end_time": "2024-05-21T23:49:02.954237Z",
     "start_time": "2024-05-21T23:49:02.947151Z"
    }
   },
   "outputs": [
    {
     "data": {
      "text/html": [
       "<div>\n",
       "<style scoped>\n",
       "    .dataframe tbody tr th:only-of-type {\n",
       "        vertical-align: middle;\n",
       "    }\n",
       "\n",
       "    .dataframe tbody tr th {\n",
       "        vertical-align: top;\n",
       "    }\n",
       "\n",
       "    .dataframe thead th {\n",
       "        text-align: right;\n",
       "    }\n",
       "</style>\n",
       "<table border=\"1\" class=\"dataframe\">\n",
       "  <thead>\n",
       "    <tr style=\"text-align: right;\">\n",
       "      <th></th>\n",
       "      <th>Unnamed: 0</th>\n",
       "      <th>mean_rainrate</th>\n",
       "    </tr>\n",
       "  </thead>\n",
       "  <tbody>\n",
       "    <tr>\n",
       "      <th>0</th>\n",
       "      <td>2018-10-16 00:15:00</td>\n",
       "      <td>0.0</td>\n",
       "    </tr>\n",
       "    <tr>\n",
       "      <th>1</th>\n",
       "      <td>2018-10-16 00:45:00</td>\n",
       "      <td>0.0</td>\n",
       "    </tr>\n",
       "    <tr>\n",
       "      <th>2</th>\n",
       "      <td>2018-10-16 01:15:00</td>\n",
       "      <td>0.0</td>\n",
       "    </tr>\n",
       "    <tr>\n",
       "      <th>3</th>\n",
       "      <td>2018-10-16 01:45:00</td>\n",
       "      <td>0.0</td>\n",
       "    </tr>\n",
       "    <tr>\n",
       "      <th>4</th>\n",
       "      <td>2018-10-16 02:15:00</td>\n",
       "      <td>0.0</td>\n",
       "    </tr>\n",
       "    <tr>\n",
       "      <th>5</th>\n",
       "      <td>2018-10-16 02:45:00</td>\n",
       "      <td>0.0</td>\n",
       "    </tr>\n",
       "    <tr>\n",
       "      <th>6</th>\n",
       "      <td>2018-10-16 03:15:00</td>\n",
       "      <td>0.0</td>\n",
       "    </tr>\n",
       "    <tr>\n",
       "      <th>7</th>\n",
       "      <td>2018-10-16 03:45:00</td>\n",
       "      <td>0.0</td>\n",
       "    </tr>\n",
       "    <tr>\n",
       "      <th>8</th>\n",
       "      <td>2018-10-16 04:15:00</td>\n",
       "      <td>0.0</td>\n",
       "    </tr>\n",
       "    <tr>\n",
       "      <th>9</th>\n",
       "      <td>2018-10-16 04:45:00</td>\n",
       "      <td>0.0</td>\n",
       "    </tr>\n",
       "  </tbody>\n",
       "</table>\n",
       "</div>"
      ],
      "text/plain": [
       "            Unnamed: 0  mean_rainrate\n",
       "0  2018-10-16 00:15:00            0.0\n",
       "1  2018-10-16 00:45:00            0.0\n",
       "2  2018-10-16 01:15:00            0.0\n",
       "3  2018-10-16 01:45:00            0.0\n",
       "4  2018-10-16 02:15:00            0.0\n",
       "5  2018-10-16 02:45:00            0.0\n",
       "6  2018-10-16 03:15:00            0.0\n",
       "7  2018-10-16 03:45:00            0.0\n",
       "8  2018-10-16 04:15:00            0.0\n",
       "9  2018-10-16 04:45:00            0.0"
      ]
     },
     "execution_count": 7,
     "metadata": {},
     "output_type": "execute_result"
    }
   ],
   "source": [
    "df"
   ]
  },
  {
   "cell_type": "code",
   "execution_count": 16,
   "id": "75c5fc2a",
   "metadata": {
    "ExecuteTime": {
     "end_time": "2024-05-21T23:51:41.728595Z",
     "start_time": "2024-05-21T23:51:41.660790Z"
    }
   },
   "outputs": [
    {
     "data": {
      "image/png": "[encoded data removed]",
      "text/plain": [
       "<Figure size 432x288 with 1 Axes>"
      ]
     },
     "metadata": {
      "needs_background": "light"
     },
     "output_type": "display_data"
    }
   ],
   "source": [
    "plt.plot(df.iloc[:, 0], df.iloc[:, 1])\n",
    "plt.xticks(rotation=90)\n",
    "plt.show()"
   ]
  },
  {
   "cell_type": "code",
   "execution_count": null,
   "id": "0e9d2a51",
   "metadata": {},
   "outputs": [],
   "source": []
  }
 ],
 "metadata": {
  "kernelspec": {
   "display_name": "Python 3",
   "language": "python",
   "name": "python3"
  },
  "language_info": {
   "codemirror_mode": {
    "name": "ipython",
    "version": 3
   },
   "file_extension": ".py",
   "mimetype": "text/x-python",
   "name": "python",
   "nbconvert_exporter": "python",
   "pygments_lexer": "ipython3",
   "version": "3.8.10"
  }
 },
 "nbformat": 4,
 "nbformat_minor": 5
}
