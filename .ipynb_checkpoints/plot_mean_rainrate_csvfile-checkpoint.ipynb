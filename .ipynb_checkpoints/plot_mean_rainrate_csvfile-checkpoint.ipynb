{
 "cells": [
  {
   "cell_type": "code",
   "execution_count": 46,
   "id": "fd6eb818",
   "metadata": {
    "ExecuteTime": {
     "end_time": "2024-05-21T23:49:24.206486Z",
     "start_time": "2024-05-21T23:49:24.204487Z"
    }
   },
   "outputs": [],
   "source": [
    "import pandas as pd\n",
    "import matplotlib.pyplot as plt\n",
    "from matplotlib.dates import DateFormatter\n",
    "import matplotlib.dates as mdates"
   ]
  },
  {
   "cell_type": "code",
   "execution_count": 55,
   "id": "2f26ae73",
   "metadata": {
    "ExecuteTime": {
     "end_time": "2024-05-21T23:49:02.561183Z",
     "start_time": "2024-05-21T23:49:02.557290Z"
    }
   },
   "outputs": [],
   "source": [
    "df = pd.read_csv('/home/msuarez/Downloads/IMERG-F_extras2018_dataset_previo/regridded/mean_rainrate.csv')\n",
    "df['Unnamed: 0'] = pd.to_datetime(df['Unnamed: 0'])"
   ]
  },
  {
   "cell_type": "code",
   "execution_count": 56,
   "id": "270e8fb7",
   "metadata": {
    "ExecuteTime": {
     "end_time": "2024-05-21T23:49:02.954237Z",
     "start_time": "2024-05-21T23:49:02.947151Z"
    }
   },
   "outputs": [
    {
     "data": {
      "text/html": [
       "<div>\n",
       "<style scoped>\n",
       "    .dataframe tbody tr th:only-of-type {\n",
       "        vertical-align: middle;\n",
       "    }\n",
       "\n",
       "    .dataframe tbody tr th {\n",
       "        vertical-align: top;\n",
       "    }\n",
       "\n",
       "    .dataframe thead th {\n",
       "        text-align: right;\n",
       "    }\n",
       "</style>\n",
       "<table border=\"1\" class=\"dataframe\">\n",
       "  <thead>\n",
       "    <tr style=\"text-align: right;\">\n",
       "      <th></th>\n",
       "      <th>Unnamed: 0</th>\n",
       "      <th>mean_rainrate</th>\n",
       "    </tr>\n",
       "  </thead>\n",
       "  <tbody>\n",
       "    <tr>\n",
       "      <th>0</th>\n",
       "      <td>2018-10-16 00:15:00</td>\n",
       "      <td>0.000000</td>\n",
       "    </tr>\n",
       "    <tr>\n",
       "      <th>1</th>\n",
       "      <td>2018-10-16 00:45:00</td>\n",
       "      <td>0.000000</td>\n",
       "    </tr>\n",
       "    <tr>\n",
       "      <th>2</th>\n",
       "      <td>2018-10-16 01:15:00</td>\n",
       "      <td>0.000000</td>\n",
       "    </tr>\n",
       "    <tr>\n",
       "      <th>3</th>\n",
       "      <td>2018-10-16 01:45:00</td>\n",
       "      <td>0.000000</td>\n",
       "    </tr>\n",
       "    <tr>\n",
       "      <th>4</th>\n",
       "      <td>2018-10-16 02:15:00</td>\n",
       "      <td>0.000000</td>\n",
       "    </tr>\n",
       "    <tr>\n",
       "      <th>...</th>\n",
       "      <td>...</td>\n",
       "      <td>...</td>\n",
       "    </tr>\n",
       "    <tr>\n",
       "      <th>1051</th>\n",
       "      <td>2018-11-06 21:45:00</td>\n",
       "      <td>0.538919</td>\n",
       "    </tr>\n",
       "    <tr>\n",
       "      <th>1052</th>\n",
       "      <td>2018-11-06 22:15:00</td>\n",
       "      <td>0.312346</td>\n",
       "    </tr>\n",
       "    <tr>\n",
       "      <th>1053</th>\n",
       "      <td>2018-11-06 22:45:00</td>\n",
       "      <td>0.191995</td>\n",
       "    </tr>\n",
       "    <tr>\n",
       "      <th>1054</th>\n",
       "      <td>2018-11-06 23:15:00</td>\n",
       "      <td>0.002578</td>\n",
       "    </tr>\n",
       "    <tr>\n",
       "      <th>1055</th>\n",
       "      <td>2018-11-06 23:45:00</td>\n",
       "      <td>0.001809</td>\n",
       "    </tr>\n",
       "  </tbody>\n",
       "</table>\n",
       "<p>1056 rows × 2 columns</p>\n",
       "</div>"
      ],
      "text/plain": [
       "              Unnamed: 0  mean_rainrate\n",
       "0    2018-10-16 00:15:00       0.000000\n",
       "1    2018-10-16 00:45:00       0.000000\n",
       "2    2018-10-16 01:15:00       0.000000\n",
       "3    2018-10-16 01:45:00       0.000000\n",
       "4    2018-10-16 02:15:00       0.000000\n",
       "...                  ...            ...\n",
       "1051 2018-11-06 21:45:00       0.538919\n",
       "1052 2018-11-06 22:15:00       0.312346\n",
       "1053 2018-11-06 22:45:00       0.191995\n",
       "1054 2018-11-06 23:15:00       0.002578\n",
       "1055 2018-11-06 23:45:00       0.001809\n",
       "\n",
       "[1056 rows x 2 columns]"
      ]
     },
     "execution_count": 56,
     "metadata": {},
     "output_type": "execute_result"
    }
   ],
   "source": [
    "df"
   ]
  },
  {
   "cell_type": "code",
   "execution_count": 57,
   "id": "cadc4796",
   "metadata": {},
   "outputs": [
    {
     "data": {
      "text/html": [
       "<div>\n",
       "<style scoped>\n",
       "    .dataframe tbody tr th:only-of-type {\n",
       "        vertical-align: middle;\n",
       "    }\n",
       "\n",
       "    .dataframe tbody tr th {\n",
       "        vertical-align: top;\n",
       "    }\n",
       "\n",
       "    .dataframe thead th {\n",
       "        text-align: right;\n",
       "    }\n",
       "</style>\n",
       "<table border=\"1\" class=\"dataframe\">\n",
       "  <thead>\n",
       "    <tr style=\"text-align: right;\">\n",
       "      <th></th>\n",
       "      <th>mean_rainrate</th>\n",
       "    </tr>\n",
       "    <tr>\n",
       "      <th>Unnamed: 0</th>\n",
       "      <th></th>\n",
       "    </tr>\n",
       "  </thead>\n",
       "  <tbody>\n",
       "    <tr>\n",
       "      <th>2018-10-16 00:15:00</th>\n",
       "      <td>0.000000</td>\n",
       "    </tr>\n",
       "    <tr>\n",
       "      <th>2018-10-16 00:45:00</th>\n",
       "      <td>0.000000</td>\n",
       "    </tr>\n",
       "    <tr>\n",
       "      <th>2018-10-16 01:15:00</th>\n",
       "      <td>0.000000</td>\n",
       "    </tr>\n",
       "    <tr>\n",
       "      <th>2018-10-16 01:45:00</th>\n",
       "      <td>0.000000</td>\n",
       "    </tr>\n",
       "    <tr>\n",
       "      <th>2018-10-16 02:15:00</th>\n",
       "      <td>0.000000</td>\n",
       "    </tr>\n",
       "    <tr>\n",
       "      <th>...</th>\n",
       "      <td>...</td>\n",
       "    </tr>\n",
       "    <tr>\n",
       "      <th>2018-11-06 21:45:00</th>\n",
       "      <td>0.538919</td>\n",
       "    </tr>\n",
       "    <tr>\n",
       "      <th>2018-11-06 22:15:00</th>\n",
       "      <td>0.312346</td>\n",
       "    </tr>\n",
       "    <tr>\n",
       "      <th>2018-11-06 22:45:00</th>\n",
       "      <td>0.191995</td>\n",
       "    </tr>\n",
       "    <tr>\n",
       "      <th>2018-11-06 23:15:00</th>\n",
       "      <td>0.002578</td>\n",
       "    </tr>\n",
       "    <tr>\n",
       "      <th>2018-11-06 23:45:00</th>\n",
       "      <td>0.001809</td>\n",
       "    </tr>\n",
       "  </tbody>\n",
       "</table>\n",
       "<p>1056 rows × 1 columns</p>\n",
       "</div>"
      ],
      "text/plain": [
       "                     mean_rainrate\n",
       "Unnamed: 0                        \n",
       "2018-10-16 00:15:00       0.000000\n",
       "2018-10-16 00:45:00       0.000000\n",
       "2018-10-16 01:15:00       0.000000\n",
       "2018-10-16 01:45:00       0.000000\n",
       "2018-10-16 02:15:00       0.000000\n",
       "...                            ...\n",
       "2018-11-06 21:45:00       0.538919\n",
       "2018-11-06 22:15:00       0.312346\n",
       "2018-11-06 22:45:00       0.191995\n",
       "2018-11-06 23:15:00       0.002578\n",
       "2018-11-06 23:45:00       0.001809\n",
       "\n",
       "[1056 rows x 1 columns]"
      ]
     },
     "execution_count": 57,
     "metadata": {},
     "output_type": "execute_result"
    }
   ],
   "source": [
    "df.set_index('Unnamed: 0', inplace=True)\n",
    "df"
   ]
  },
  {
   "cell_type": "code",
   "execution_count": 69,
   "id": "75c5fc2a",
   "metadata": {
    "ExecuteTime": {
     "end_time": "2024-05-21T23:51:41.728595Z",
     "start_time": "2024-05-21T23:51:41.660790Z"
    }
   },
   "outputs": [
    {
     "data": {
      "image/png": "[encoded data removed]",
      "text/plain": [
       "<Figure size 1440x288 with 1 Axes>"
      ]
     },
     "metadata": {
      "needs_background": "light"
     },
     "output_type": "display_data"
    }
   ],
   "source": [
    "fig, ax = plt.subplots(figsize=(20,4))\n",
    "\n",
    "ax.plot(df.index, df['mean_rainrate'], color='black')\n",
    "\n",
    "# ax.xaxis.set_major_locator(mdates.MonthLocator(interval=1))\n",
    "ax.xaxis.set_major_locator(mdates.DayLocator(interval=1))\n",
    "ax.xaxis.set_major_formatter(mdates.DateFormatter('%Y-%b-%d'))\n",
    "\n",
    "ax.set_ylabel('R [mm/h]')\n",
    "ax.set_xlabel('Date')\n",
    "ax.set_title('Average IMERG-F precipitation on the simulation domain')\n",
    "\n",
    "plt.xticks(rotation=90)\n",
    "plt.show()"
   ]
  },
  {
   "cell_type": "code",
   "execution_count": null,
   "id": "0e9d2a51",
   "metadata": {},
   "outputs": [],
   "source": []
  }
 ],
 "metadata": {
  "kernelspec": {
   "display_name": "Python 3",
   "language": "python",
   "name": "python3"
  },
  "language_info": {
   "codemirror_mode": {
    "name": "ipython",
    "version": 3
   },
   "file_extension": ".py",
   "mimetype": "text/x-python",
   "name": "python",
   "nbconvert_exporter": "python",
   "pygments_lexer": "ipython3",
   "version": "3.8.10"
  }
 },
 "nbformat": 4,
 "nbformat_minor": 5
}
