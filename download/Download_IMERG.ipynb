{
  "cells": [
    {
      "cell_type": "code",
      "execution_count": null,
      "id": "2da238cb",
      "metadata": {
        "id": "2da238cb"
      },
      "outputs": [],
      "source": [
        "'''\n",
        "This code was developed to be used in Google Colab\n",
        "Created by @msuarez on April 13, 2024\n",
        "'''\n",
        "# import necessary libraries\n",
        "import pandas as pd\n",
        "import numpy as np\n",
        "import xarray as xr\n",
        "import requests"
      ]
    },
    {
      "cell_type": "code",
      "source": [
        "# mount our drive\n",
        "from google.colab import drive\n",
        "drive.mount('/content/drive')"
      ],
      "metadata": {
        "colab": {
          "base_uri": "https://localhost:8080/"
        },
        "id": "Q5_vP2S_Xo7Q",
        "outputId": "229accc1-f5a7-452c-8005-4223af089a80"
      },
      "id": "Q5_vP2S_Xo7Q",
      "execution_count": null,
      "outputs": [
        {
          "output_type": "stream",
          "name": "stdout",
          "text": [
            "Mounted at /content/drive\n"
          ]
        }
      ]
    },
    {
      "cell_type": "code",
      "execution_count": null,
      "id": "f4167215",
      "metadata": {
        "colab": {
          "base_uri": "https://localhost:8080/"
        },
        "id": "f4167215",
        "outputId": "d6276f02-5323-46d8-83d1-bc1ed53e991b"
      },
      "outputs": [
        {
          "output_type": "execute_result",
          "data": {
            "text/plain": [
              "0     https://docserver.gesdisc.eosdis.nasa.gov/publ...\n",
              "1     https://gpm1.gesdisc.eosdis.nasa.gov/data/GPM_...\n",
              "2     https://gpm1.gesdisc.eosdis.nasa.gov/opendap/G...\n",
              "3     https://gpm1.gesdisc.eosdis.nasa.gov/opendap/G...\n",
              "4     https://gpm1.gesdisc.eosdis.nasa.gov/opendap/G...\n",
              "5     https://gpm1.gesdisc.eosdis.nasa.gov/opendap/G...\n",
              "6     https://gpm1.gesdisc.eosdis.nasa.gov/opendap/G...\n",
              "7     https://gpm1.gesdisc.eosdis.nasa.gov/opendap/G...\n",
              "8     https://gpm1.gesdisc.eosdis.nasa.gov/opendap/G...\n",
              "9     https://gpm1.gesdisc.eosdis.nasa.gov/opendap/G...\n",
              "10    https://gpm1.gesdisc.eosdis.nasa.gov/opendap/G...\n",
              "11    https://gpm1.gesdisc.eosdis.nasa.gov/opendap/G...\n",
              "12    https://gpm1.gesdisc.eosdis.nasa.gov/opendap/G...\n",
              "13    https://gpm1.gesdisc.eosdis.nasa.gov/opendap/G...\n",
              "14    https://gpm1.gesdisc.eosdis.nasa.gov/opendap/G...\n",
              "15    https://gpm1.gesdisc.eosdis.nasa.gov/opendap/G...\n",
              "16    https://gpm1.gesdisc.eosdis.nasa.gov/opendap/G...\n",
              "17    https://gpm1.gesdisc.eosdis.nasa.gov/opendap/G...\n",
              "18    https://gpm1.gesdisc.eosdis.nasa.gov/opendap/G...\n",
              "19    https://gpm1.gesdisc.eosdis.nasa.gov/opendap/G...\n",
              "20    https://gpm1.gesdisc.eosdis.nasa.gov/opendap/G...\n",
              "21    https://gpm1.gesdisc.eosdis.nasa.gov/opendap/G...\n",
              "22    https://gpm1.gesdisc.eosdis.nasa.gov/opendap/G...\n",
              "23    https://gpm1.gesdisc.eosdis.nasa.gov/opendap/G...\n",
              "24    https://gpm1.gesdisc.eosdis.nasa.gov/opendap/G...\n",
              "25    https://gpm1.gesdisc.eosdis.nasa.gov/opendap/G...\n",
              "26    https://gpm1.gesdisc.eosdis.nasa.gov/opendap/G...\n",
              "27    https://gpm1.gesdisc.eosdis.nasa.gov/opendap/G...\n",
              "28    https://gpm1.gesdisc.eosdis.nasa.gov/opendap/G...\n",
              "29    https://gpm1.gesdisc.eosdis.nasa.gov/opendap/G...\n",
              "30    https://gpm1.gesdisc.eosdis.nasa.gov/opendap/G...\n",
              "31    https://gpm1.gesdisc.eosdis.nasa.gov/opendap/G...\n",
              "32    https://gpm1.gesdisc.eosdis.nasa.gov/opendap/G...\n",
              "33    https://gpm1.gesdisc.eosdis.nasa.gov/opendap/G...\n",
              "34    https://gpm1.gesdisc.eosdis.nasa.gov/opendap/G...\n",
              "35    https://gpm1.gesdisc.eosdis.nasa.gov/opendap/G...\n",
              "36    https://gpm1.gesdisc.eosdis.nasa.gov/opendap/G...\n",
              "37    https://gpm1.gesdisc.eosdis.nasa.gov/opendap/G...\n",
              "38    https://gpm1.gesdisc.eosdis.nasa.gov/opendap/G...\n",
              "39    https://gpm1.gesdisc.eosdis.nasa.gov/opendap/G...\n",
              "40    https://gpm1.gesdisc.eosdis.nasa.gov/opendap/G...\n",
              "41    https://gpm1.gesdisc.eosdis.nasa.gov/opendap/G...\n",
              "42    https://gpm1.gesdisc.eosdis.nasa.gov/opendap/G...\n",
              "43    https://gpm1.gesdisc.eosdis.nasa.gov/opendap/G...\n",
              "44    https://gpm1.gesdisc.eosdis.nasa.gov/opendap/G...\n",
              "45    https://gpm1.gesdisc.eosdis.nasa.gov/opendap/G...\n",
              "46    https://gpm1.gesdisc.eosdis.nasa.gov/opendap/G...\n",
              "47    https://gpm1.gesdisc.eosdis.nasa.gov/opendap/G...\n",
              "Name: 0, dtype: object"
            ]
          },
          "metadata": {},
          "execution_count": 3
        }
      ],
      "source": [
        "# directorio_txt is the path to the .txt file downloaded from the ges disc website\n",
        "directorio_txt = '/content/drive/MyDrive/Script-Download-IMERG-F/'\n",
        "# dir_salida is the output directory where the downloaded files will be saved\n",
        "dir_salida = '/content/drive/MyDrive/Script-Download-IMERG-F/Descargas/'\n",
        "\n",
        "# read the txt file\n",
        "ds = pd.read_csv(directorio_txt+'subset_GPM_3IMERGHHL_06_20240415_142801_.txt', header = None, sep = ' ')[0]\n",
        "ds"
      ]
    },
    {
      "cell_type": "code",
      "execution_count": null,
      "id": "1d2f28d1",
      "metadata": {
        "id": "1d2f28d1",
        "colab": {
          "base_uri": "https://localhost:8080/"
        },
        "outputId": "86873eb0-7f86-4ce4-d5ea-e892c69472f2"
      },
      "outputs": [
        {
          "output_type": "stream",
          "name": "stdout",
          "text": [
            "Descargado  https://docserver.gesdisc.eosdis.nasa.gov/public/project/GPM/IMERG_ATBD_V06.pdf\n",
            "Descargado  https://gpm1.gesdisc.eosdis.nasa.gov/data/GPM_L3/doc/README.GPM.pdf\n",
            "Descargado  https://gpm1.gesdisc.eosdis.nasa.gov/opendap/GPM_L3/GPM_3IMERGHHL.06/2024/105/3B-HHR-L.MS.MRG.3IMERG.20240414-S000000-E002959.0000.V06E.HDF5.nc4?precipitationCal[0:0][1100:1211][520:623],time,lon[1100:1211],lat[520:623]\n",
            "Descargado  https://gpm1.gesdisc.eosdis.nasa.gov/opendap/GPM_L3/GPM_3IMERGHHL.06/2024/105/3B-HHR-L.MS.MRG.3IMERG.20240414-S003000-E005959.0030.V06E.HDF5.nc4?precipitationCal[0:0][1100:1211][520:623],time,lon[1100:1211],lat[520:623]\n",
            "Descargado  https://gpm1.gesdisc.eosdis.nasa.gov/opendap/GPM_L3/GPM_3IMERGHHL.06/2024/105/3B-HHR-L.MS.MRG.3IMERG.20240414-S010000-E012959.0060.V06E.HDF5.nc4?precipitationCal[0:0][1100:1211][520:623],time,lon[1100:1211],lat[520:623]\n",
            "Descargado  https://gpm1.gesdisc.eosdis.nasa.gov/opendap/GPM_L3/GPM_3IMERGHHL.06/2024/105/3B-HHR-L.MS.MRG.3IMERG.20240414-S013000-E015959.0090.V06E.HDF5.nc4?precipitationCal[0:0][1100:1211][520:623],time,lon[1100:1211],lat[520:623]\n",
            "Descargado  https://gpm1.gesdisc.eosdis.nasa.gov/opendap/GPM_L3/GPM_3IMERGHHL.06/2024/105/3B-HHR-L.MS.MRG.3IMERG.20240414-S020000-E022959.0120.V06E.HDF5.nc4?precipitationCal[0:0][1100:1211][520:623],time,lon[1100:1211],lat[520:623]\n",
            "Descargado  https://gpm1.gesdisc.eosdis.nasa.gov/opendap/GPM_L3/GPM_3IMERGHHL.06/2024/105/3B-HHR-L.MS.MRG.3IMERG.20240414-S023000-E025959.0150.V06E.HDF5.nc4?precipitationCal[0:0][1100:1211][520:623],time,lon[1100:1211],lat[520:623]\n",
            "Descargado  https://gpm1.gesdisc.eosdis.nasa.gov/opendap/GPM_L3/GPM_3IMERGHHL.06/2024/105/3B-HHR-L.MS.MRG.3IMERG.20240414-S030000-E032959.0180.V06E.HDF5.nc4?precipitationCal[0:0][1100:1211][520:623],time,lon[1100:1211],lat[520:623]\n",
            "Descargado  https://gpm1.gesdisc.eosdis.nasa.gov/opendap/GPM_L3/GPM_3IMERGHHL.06/2024/105/3B-HHR-L.MS.MRG.3IMERG.20240414-S033000-E035959.0210.V06E.HDF5.nc4?precipitationCal[0:0][1100:1211][520:623],time,lon[1100:1211],lat[520:623]\n",
            "Descargado  https://gpm1.gesdisc.eosdis.nasa.gov/opendap/GPM_L3/GPM_3IMERGHHL.06/2024/105/3B-HHR-L.MS.MRG.3IMERG.20240414-S040000-E042959.0240.V06E.HDF5.nc4?precipitationCal[0:0][1100:1211][520:623],time,lon[1100:1211],lat[520:623]\n",
            "Descargado  https://gpm1.gesdisc.eosdis.nasa.gov/opendap/GPM_L3/GPM_3IMERGHHL.06/2024/105/3B-HHR-L.MS.MRG.3IMERG.20240414-S043000-E045959.0270.V06E.HDF5.nc4?precipitationCal[0:0][1100:1211][520:623],time,lon[1100:1211],lat[520:623]\n",
            "Descargado  https://gpm1.gesdisc.eosdis.nasa.gov/opendap/GPM_L3/GPM_3IMERGHHL.06/2024/105/3B-HHR-L.MS.MRG.3IMERG.20240414-S050000-E052959.0300.V06E.HDF5.nc4?precipitationCal[0:0][1100:1211][520:623],time,lon[1100:1211],lat[520:623]\n",
            "Descargado  https://gpm1.gesdisc.eosdis.nasa.gov/opendap/GPM_L3/GPM_3IMERGHHL.06/2024/105/3B-HHR-L.MS.MRG.3IMERG.20240414-S053000-E055959.0330.V06E.HDF5.nc4?precipitationCal[0:0][1100:1211][520:623],time,lon[1100:1211],lat[520:623]\n",
            "Descargado  https://gpm1.gesdisc.eosdis.nasa.gov/opendap/GPM_L3/GPM_3IMERGHHL.06/2024/105/3B-HHR-L.MS.MRG.3IMERG.20240414-S060000-E062959.0360.V06E.HDF5.nc4?precipitationCal[0:0][1100:1211][520:623],time,lon[1100:1211],lat[520:623]\n",
            "Descargado  https://gpm1.gesdisc.eosdis.nasa.gov/opendap/GPM_L3/GPM_3IMERGHHL.06/2024/105/3B-HHR-L.MS.MRG.3IMERG.20240414-S063000-E065959.0390.V06E.HDF5.nc4?precipitationCal[0:0][1100:1211][520:623],time,lon[1100:1211],lat[520:623]\n",
            "Descargado  https://gpm1.gesdisc.eosdis.nasa.gov/opendap/GPM_L3/GPM_3IMERGHHL.06/2024/105/3B-HHR-L.MS.MRG.3IMERG.20240414-S070000-E072959.0420.V06E.HDF5.nc4?precipitationCal[0:0][1100:1211][520:623],time,lon[1100:1211],lat[520:623]\n",
            "Descargado  https://gpm1.gesdisc.eosdis.nasa.gov/opendap/GPM_L3/GPM_3IMERGHHL.06/2024/105/3B-HHR-L.MS.MRG.3IMERG.20240414-S073000-E075959.0450.V06E.HDF5.nc4?precipitationCal[0:0][1100:1211][520:623],time,lon[1100:1211],lat[520:623]\n",
            "Descargado  https://gpm1.gesdisc.eosdis.nasa.gov/opendap/GPM_L3/GPM_3IMERGHHL.06/2024/105/3B-HHR-L.MS.MRG.3IMERG.20240414-S080000-E082959.0480.V06E.HDF5.nc4?precipitationCal[0:0][1100:1211][520:623],time,lon[1100:1211],lat[520:623]\n",
            "Descargado  https://gpm1.gesdisc.eosdis.nasa.gov/opendap/GPM_L3/GPM_3IMERGHHL.06/2024/105/3B-HHR-L.MS.MRG.3IMERG.20240414-S083000-E085959.0510.V06E.HDF5.nc4?precipitationCal[0:0][1100:1211][520:623],time,lon[1100:1211],lat[520:623]\n",
            "Descargado  https://gpm1.gesdisc.eosdis.nasa.gov/opendap/GPM_L3/GPM_3IMERGHHL.06/2024/105/3B-HHR-L.MS.MRG.3IMERG.20240414-S090000-E092959.0540.V06E.HDF5.nc4?precipitationCal[0:0][1100:1211][520:623],time,lon[1100:1211],lat[520:623]\n",
            "Descargado  https://gpm1.gesdisc.eosdis.nasa.gov/opendap/GPM_L3/GPM_3IMERGHHL.06/2024/105/3B-HHR-L.MS.MRG.3IMERG.20240414-S093000-E095959.0570.V06E.HDF5.nc4?precipitationCal[0:0][1100:1211][520:623],time,lon[1100:1211],lat[520:623]\n",
            "Descargado  https://gpm1.gesdisc.eosdis.nasa.gov/opendap/GPM_L3/GPM_3IMERGHHL.06/2024/105/3B-HHR-L.MS.MRG.3IMERG.20240414-S100000-E102959.0600.V06E.HDF5.nc4?precipitationCal[0:0][1100:1211][520:623],time,lon[1100:1211],lat[520:623]\n",
            "Descargado  https://gpm1.gesdisc.eosdis.nasa.gov/opendap/GPM_L3/GPM_3IMERGHHL.06/2024/105/3B-HHR-L.MS.MRG.3IMERG.20240414-S103000-E105959.0630.V06E.HDF5.nc4?precipitationCal[0:0][1100:1211][520:623],time,lon[1100:1211],lat[520:623]\n",
            "Descargado  https://gpm1.gesdisc.eosdis.nasa.gov/opendap/GPM_L3/GPM_3IMERGHHL.06/2024/105/3B-HHR-L.MS.MRG.3IMERG.20240414-S110000-E112959.0660.V06E.HDF5.nc4?precipitationCal[0:0][1100:1211][520:623],time,lon[1100:1211],lat[520:623]\n",
            "Descargado  https://gpm1.gesdisc.eosdis.nasa.gov/opendap/GPM_L3/GPM_3IMERGHHL.06/2024/105/3B-HHR-L.MS.MRG.3IMERG.20240414-S113000-E115959.0690.V06E.HDF5.nc4?precipitationCal[0:0][1100:1211][520:623],time,lon[1100:1211],lat[520:623]\n",
            "Descargado  https://gpm1.gesdisc.eosdis.nasa.gov/opendap/GPM_L3/GPM_3IMERGHHL.06/2024/105/3B-HHR-L.MS.MRG.3IMERG.20240414-S120000-E122959.0720.V06E.HDF5.nc4?precipitationCal[0:0][1100:1211][520:623],time,lon[1100:1211],lat[520:623]\n",
            "Descargado  https://gpm1.gesdisc.eosdis.nasa.gov/opendap/GPM_L3/GPM_3IMERGHHL.06/2024/105/3B-HHR-L.MS.MRG.3IMERG.20240414-S123000-E125959.0750.V06E.HDF5.nc4?precipitationCal[0:0][1100:1211][520:623],time,lon[1100:1211],lat[520:623]\n",
            "Descargado  https://gpm1.gesdisc.eosdis.nasa.gov/opendap/GPM_L3/GPM_3IMERGHHL.06/2024/105/3B-HHR-L.MS.MRG.3IMERG.20240414-S130000-E132959.0780.V06E.HDF5.nc4?precipitationCal[0:0][1100:1211][520:623],time,lon[1100:1211],lat[520:623]\n",
            "Descargado  https://gpm1.gesdisc.eosdis.nasa.gov/opendap/GPM_L3/GPM_3IMERGHHL.06/2024/105/3B-HHR-L.MS.MRG.3IMERG.20240414-S133000-E135959.0810.V06E.HDF5.nc4?precipitationCal[0:0][1100:1211][520:623],time,lon[1100:1211],lat[520:623]\n",
            "Descargado  https://gpm1.gesdisc.eosdis.nasa.gov/opendap/GPM_L3/GPM_3IMERGHHL.06/2024/105/3B-HHR-L.MS.MRG.3IMERG.20240414-S140000-E142959.0840.V06E.HDF5.nc4?precipitationCal[0:0][1100:1211][520:623],time,lon[1100:1211],lat[520:623]\n",
            "Descargado  https://gpm1.gesdisc.eosdis.nasa.gov/opendap/GPM_L3/GPM_3IMERGHHL.06/2024/105/3B-HHR-L.MS.MRG.3IMERG.20240414-S143000-E145959.0870.V06E.HDF5.nc4?precipitationCal[0:0][1100:1211][520:623],time,lon[1100:1211],lat[520:623]\n",
            "Descargado  https://gpm1.gesdisc.eosdis.nasa.gov/opendap/GPM_L3/GPM_3IMERGHHL.06/2024/105/3B-HHR-L.MS.MRG.3IMERG.20240414-S150000-E152959.0900.V06E.HDF5.nc4?precipitationCal[0:0][1100:1211][520:623],time,lon[1100:1211],lat[520:623]\n",
            "Descargado  https://gpm1.gesdisc.eosdis.nasa.gov/opendap/GPM_L3/GPM_3IMERGHHL.06/2024/105/3B-HHR-L.MS.MRG.3IMERG.20240414-S153000-E155959.0930.V06E.HDF5.nc4?precipitationCal[0:0][1100:1211][520:623],time,lon[1100:1211],lat[520:623]\n",
            "Descargado  https://gpm1.gesdisc.eosdis.nasa.gov/opendap/GPM_L3/GPM_3IMERGHHL.06/2024/105/3B-HHR-L.MS.MRG.3IMERG.20240414-S160000-E162959.0960.V06E.HDF5.nc4?precipitationCal[0:0][1100:1211][520:623],time,lon[1100:1211],lat[520:623]\n",
            "Descargado  https://gpm1.gesdisc.eosdis.nasa.gov/opendap/GPM_L3/GPM_3IMERGHHL.06/2024/105/3B-HHR-L.MS.MRG.3IMERG.20240414-S163000-E165959.0990.V06E.HDF5.nc4?precipitationCal[0:0][1100:1211][520:623],time,lon[1100:1211],lat[520:623]\n",
            "Descargado  https://gpm1.gesdisc.eosdis.nasa.gov/opendap/GPM_L3/GPM_3IMERGHHL.06/2024/105/3B-HHR-L.MS.MRG.3IMERG.20240414-S170000-E172959.1020.V06E.HDF5.nc4?precipitationCal[0:0][1100:1211][520:623],time,lon[1100:1211],lat[520:623]\n",
            "Descargado  https://gpm1.gesdisc.eosdis.nasa.gov/opendap/GPM_L3/GPM_3IMERGHHL.06/2024/105/3B-HHR-L.MS.MRG.3IMERG.20240414-S173000-E175959.1050.V06E.HDF5.nc4?precipitationCal[0:0][1100:1211][520:623],time,lon[1100:1211],lat[520:623]\n",
            "Descargado  https://gpm1.gesdisc.eosdis.nasa.gov/opendap/GPM_L3/GPM_3IMERGHHL.06/2024/105/3B-HHR-L.MS.MRG.3IMERG.20240414-S180000-E182959.1080.V06E.HDF5.nc4?precipitationCal[0:0][1100:1211][520:623],time,lon[1100:1211],lat[520:623]\n",
            "Descargado  https://gpm1.gesdisc.eosdis.nasa.gov/opendap/GPM_L3/GPM_3IMERGHHL.06/2024/105/3B-HHR-L.MS.MRG.3IMERG.20240414-S183000-E185959.1110.V06E.HDF5.nc4?precipitationCal[0:0][1100:1211][520:623],time,lon[1100:1211],lat[520:623]\n",
            "Descargado  https://gpm1.gesdisc.eosdis.nasa.gov/opendap/GPM_L3/GPM_3IMERGHHL.06/2024/105/3B-HHR-L.MS.MRG.3IMERG.20240414-S190000-E192959.1140.V06E.HDF5.nc4?precipitationCal[0:0][1100:1211][520:623],time,lon[1100:1211],lat[520:623]\n",
            "Descargado  https://gpm1.gesdisc.eosdis.nasa.gov/opendap/GPM_L3/GPM_3IMERGHHL.06/2024/105/3B-HHR-L.MS.MRG.3IMERG.20240414-S193000-E195959.1170.V06E.HDF5.nc4?precipitationCal[0:0][1100:1211][520:623],time,lon[1100:1211],lat[520:623]\n",
            "Descargado  https://gpm1.gesdisc.eosdis.nasa.gov/opendap/GPM_L3/GPM_3IMERGHHL.06/2024/105/3B-HHR-L.MS.MRG.3IMERG.20240414-S200000-E202959.1200.V06E.HDF5.nc4?precipitationCal[0:0][1100:1211][520:623],time,lon[1100:1211],lat[520:623]\n",
            "Descargado  https://gpm1.gesdisc.eosdis.nasa.gov/opendap/GPM_L3/GPM_3IMERGHHL.06/2024/105/3B-HHR-L.MS.MRG.3IMERG.20240414-S203000-E205959.1230.V06E.HDF5.nc4?precipitationCal[0:0][1100:1211][520:623],time,lon[1100:1211],lat[520:623]\n",
            "Descargado  https://gpm1.gesdisc.eosdis.nasa.gov/opendap/GPM_L3/GPM_3IMERGHHL.06/2024/105/3B-HHR-L.MS.MRG.3IMERG.20240414-S210000-E212959.1260.V06E.HDF5.nc4?precipitationCal[0:0][1100:1211][520:623],time,lon[1100:1211],lat[520:623]\n",
            "Descargado  https://gpm1.gesdisc.eosdis.nasa.gov/opendap/GPM_L3/GPM_3IMERGHHL.06/2024/105/3B-HHR-L.MS.MRG.3IMERG.20240414-S213000-E215959.1290.V06E.HDF5.nc4?precipitationCal[0:0][1100:1211][520:623],time,lon[1100:1211],lat[520:623]\n",
            "Descargado  https://gpm1.gesdisc.eosdis.nasa.gov/opendap/GPM_L3/GPM_3IMERGHHL.06/2024/105/3B-HHR-L.MS.MRG.3IMERG.20240414-S220000-E222959.1320.V06E.HDF5.nc4?precipitationCal[0:0][1100:1211][520:623],time,lon[1100:1211],lat[520:623]\n",
            "Descargado  https://gpm1.gesdisc.eosdis.nasa.gov/opendap/GPM_L3/GPM_3IMERGHHL.06/2024/105/3B-HHR-L.MS.MRG.3IMERG.20240414-S223000-E225959.1350.V06E.HDF5.nc4?precipitationCal[0:0][1100:1211][520:623],time,lon[1100:1211],lat[520:623]\n",
            "\n",
            "Proceso finalizado con éxito\n",
            "\n"
          ]
        }
      ],
      "source": [
        "# Download the imerg files\n",
        "# Do not forget to add .netrc file in /root dir of colab. printing `result` should return status code 200\n",
        "# .netrc file contains the following line: machine urs.earthdata.nasa.gov login your_username password your_password\n",
        "for file in range(len(ds)):\n",
        "    URL = ds[file]\n",
        "    result = requests.get(URL)\n",
        "    filename = URL.split('?')[0].split('/')[-1]\n",
        "    with open(dir_salida+filename, 'wb') as f:\n",
        "        f.write(result.content)\n",
        "    print('Descargado ',str(URL))\n",
        "print('\\nProceso finalizado con éxito\\n')"
      ]
    },
    {
      "cell_type": "code",
      "source": [],
      "metadata": {
        "id": "l4BOZFLeJOVZ"
      },
      "id": "l4BOZFLeJOVZ",
      "execution_count": null,
      "outputs": []
    }
  ],
  "metadata": {
    "kernelspec": {
      "display_name": "Python 3 (ipykernel)",
      "language": "python",
      "name": "python3"
    },
    "language_info": {
      "codemirror_mode": {
        "name": "ipython",
        "version": 3
      },
      "file_extension": ".py",
      "mimetype": "text/x-python",
      "name": "python",
      "nbconvert_exporter": "python",
      "pygments_lexer": "ipython3",
      "version": "3.9.15"
    },
    "colab": {
      "provenance": []
    }
  },
  "nbformat": 4,
  "nbformat_minor": 5
}